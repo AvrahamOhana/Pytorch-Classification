{
 "cells": [
  {
   "cell_type": "code",
   "execution_count": 25,
   "id": "46db8edd",
   "metadata": {},
   "outputs": [],
   "source": [
    "from tqdm import tqdm\n",
    "import torch\n",
    "from torchvision import datasets, transforms\n",
    "from torchinfo import summary\n",
    "import torch.utils.data as data\n",
    "import albumentations as A\n",
    "from torch.utils.data import DataLoader\n",
    "from models.alexnet import AlexNet"
   ]
  },
  {
   "cell_type": "code",
   "execution_count": 4,
   "id": "1c7fe454",
   "metadata": {},
   "outputs": [
    {
     "data": {
      "text/plain": [
       "'cuda'"
      ]
     },
     "execution_count": 4,
     "metadata": {},
     "output_type": "execute_result"
    }
   ],
   "source": [
    "device = \"cuda\" if torch.cuda.is_available() else \"cpu\"\n",
    "device"
   ]
  },
  {
   "cell_type": "code",
   "execution_count": 7,
   "id": "f157b995",
   "metadata": {},
   "outputs": [
    {
     "name": "stdout",
     "output_type": "stream",
     "text": [
      "cats  dogs\r\n"
     ]
    }
   ],
   "source": [
    "!ls data/cats_vs_dogs/"
   ]
  },
  {
   "cell_type": "code",
   "execution_count": 9,
   "id": "a9c74f4c",
   "metadata": {},
   "outputs": [],
   "source": [
    "data_dir = \"data/cats_vs_dogs/\""
   ]
  },
  {
   "cell_type": "code",
   "execution_count": 12,
   "id": "5ace2745",
   "metadata": {},
   "outputs": [],
   "source": [
    "transform = A.Compose([\n",
    "    A.HorizontalFlip(p=0.5),\n",
    "    A.RandomBrightnessContrast(p=0.2),\n",
    "])"
   ]
  },
  {
   "cell_type": "code",
   "execution_count": 20,
   "id": "aafeb6da",
   "metadata": {},
   "outputs": [],
   "source": [
    "dataset = datasets.ImageFolder(data_dir, transform=transform)\n",
    "class_names = dataset.classes"
   ]
  },
  {
   "cell_type": "code",
   "execution_count": 27,
   "id": "6a1cf192",
   "metadata": {},
   "outputs": [],
   "source": [
    "# Random split\n",
    "train_set_size = int(len(dataset) * 0.8)\n",
    "valid_set_size = len(dataset) - train_set_size\n",
    "train_data, test_data = data.random_split(dataset, [train_set_size, valid_set_size])"
   ]
  },
  {
   "cell_type": "code",
   "execution_count": 28,
   "id": "9b6a9ea8",
   "metadata": {},
   "outputs": [],
   "source": [
    "batch_size = 32\n",
    "num_workers = 8"
   ]
  },
  {
   "cell_type": "code",
   "execution_count": 29,
   "id": "a0bfc55d",
   "metadata": {},
   "outputs": [],
   "source": [
    "train_dataloader = DataLoader(\n",
    "      train_data,\n",
    "      batch_size=batch_size,\n",
    "      shuffle=True,\n",
    "      num_workers=num_workers,\n",
    "      pin_memory=True,\n",
    "  )\n",
    "\n",
    "test_dataloader = DataLoader(\n",
    "      test_data,\n",
    "      batch_size=batch_size,\n",
    "      shuffle=False,\n",
    "      num_workers=num_workers,\n",
    "      pin_memory=True,\n",
    "  )"
   ]
  },
  {
   "cell_type": "code",
   "execution_count": 33,
   "id": "429985c4",
   "metadata": {},
   "outputs": [],
   "source": [
    "def train_step(model, dataloader, loss_function, optimizer, device):\n",
    "    model.train()\n",
    "    train_loss, train_acc = 0, 0\n",
    "    for batch, (x, y) in tqdm(enumerate(dataloader)):\n",
    "        \n",
    "        # move data to device\n",
    "        x, y = x.to(device), y.to(device)\n",
    "        \n",
    "        # Forward\n",
    "        y_predicted = model(x)\n",
    "        \n",
    "        # calc loss\n",
    "        loss = loss_function(y_predicted, y)\n",
    "        train_loss += loss.item()\n",
    "        \n",
    "        # zero gradients\n",
    "        optimizer.zero_grad()\n",
    "        \n",
    "        # backward\n",
    "        loss.backward()\n",
    "        \n",
    "        # optimizer step\n",
    "        optimizer.step()\n",
    "        \n",
    "        # calc accuracy\n",
    "        y_predicted_class = torch.argmax(torch.softmax(y_predicted, dim=1), dim=1)\n",
    "        train_acc += (y_predicted_class == y).sum().item()/len(y_predicted)\n",
    "        \n",
    "    train_loss = train_loss / len(dataloader)\n",
    "    train_acc += train_acc / len(dataloader)\n",
    "    return train_loss, train_acc"
   ]
  },
  {
   "cell_type": "code",
   "execution_count": 34,
   "id": "1948215b",
   "metadata": {},
   "outputs": [],
   "source": [
    "def test_step(model, dataloader, loss_function, device):\n",
    "    \n",
    "    model.eval()\n",
    "    \n",
    "    test_loss, test_acc = 0, 0\n",
    "    \n",
    "    with torch.inference_mode():\n",
    "        \n",
    "        for batch, (x, y) in enumerate(dataloader):\n",
    "            \n",
    "            # move data to device\n",
    "            x, y = x.to(device), y.to(device)\n",
    "            \n",
    "            # Forward\n",
    "            test_predicted = model(x)\n",
    "\n",
    "            # calc loss\n",
    "            loss = loss_function(test_predicted, y)\n",
    "            test_loss += loss.item()\n",
    "            \n",
    "            # calc accuracy\n",
    "            test_predicted_labels = test_predicted.argmax(dim=1)\n",
    "            test_acc += ((test_predicted_labels == y).sum().item()/len(test_predicted_labels))\n",
    "        test_loss = test_loss / len(dataloader)\n",
    "        test_acc = test_acc / len(dataloader)\n",
    "        return test_loss, test_acc"
   ]
  },
  {
   "cell_type": "code",
   "execution_count": 35,
   "id": "237c46c1",
   "metadata": {},
   "outputs": [],
   "source": [
    "def train(model, train_data, test_data, optimizer, loss_function, epochs, device):\n",
    "    # Create empty results dictionary\n",
    "    results = {\"train_loss\": [],\n",
    "               \"train_acc\": [],\n",
    "               \"test_loss\": [],\n",
    "               \"test_acc\": []\n",
    "               }\n",
    "    for epoch in range(epochs):\n",
    "        train_loss, train_acc = train_step(model, train_data, loss_function, optimizer, device)\n",
    "        test_loss, test_acc = test_step(model, test_data, loss_function, device)\n",
    "        \n",
    "        # Print out what's happening\n",
    "        print(\n",
    "          f\"Epoch: {epoch+1} | \"\n",
    "          f\"train_loss: {train_loss:.4f} | \"\n",
    "          f\"train_acc: {train_acc:.4f} | \"\n",
    "          f\"test_loss: {test_loss:.4f} | \"\n",
    "          f\"test_acc: {test_acc:.4f}\"\n",
    "          )\n",
    "        \n",
    "        # Update results dictionary\n",
    "        results[\"train_loss\"].append(train_loss)\n",
    "        results[\"train_acc\"].append(train_acc)\n",
    "        results[\"test_loss\"].append(test_loss)\n",
    "        results[\"test_acc\"].append(test_acc)\n",
    "    return results"
   ]
  },
  {
   "cell_type": "code",
   "execution_count": null,
   "id": "1ff941b2",
   "metadata": {},
   "outputs": [],
   "source": [
    "summary(model=model, \n",
    "        input_size=(32, 3, 224, 224), # make sure this is \"input_size\", not \"input_shape\"\n",
    "        # col_names=[\"input_size\"], # uncomment for smaller output\n",
    "        col_names=[\"input_size\", \"output_size\", \"num_params\", \"trainable\"],\n",
    "        col_width=20,\n",
    "        row_settings=[\"var_names\"]\n",
    ")"
   ]
  },
  {
   "cell_type": "code",
   "execution_count": null,
   "id": "e2355806",
   "metadata": {},
   "outputs": [],
   "source": [
    "model = "
   ]
  }
 ],
 "metadata": {
  "kernelspec": {
   "display_name": "Python 3 (ipykernel)",
   "language": "python",
   "name": "python3"
  },
  "language_info": {
   "codemirror_mode": {
    "name": "ipython",
    "version": 3
   },
   "file_extension": ".py",
   "mimetype": "text/x-python",
   "name": "python",
   "nbconvert_exporter": "python",
   "pygments_lexer": "ipython3",
   "version": "3.10.4"
  }
 },
 "nbformat": 4,
 "nbformat_minor": 5
}
